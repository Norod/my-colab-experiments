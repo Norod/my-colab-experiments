{
  "nbformat": 4,
  "nbformat_minor": 0,
  "metadata": {
    "colab": {
      "name": "Multiple input files demo 3ddfa_v2.ipynb",
      "provenance": [],
      "collapsed_sections": [],
      "toc_visible": true,
      "include_colab_link": true
    },
    "kernelspec": {
      "name": "python3",
      "display_name": "Python 3"
    }
  },
  "cells": [
    {
      "cell_type": "markdown",
      "metadata": {
        "id": "view-in-github",
        "colab_type": "text"
      },
      "source": [
        "<a href=\"https://colab.research.google.com/github/Norod/my-colab-experiments/blob/master/Multiple_input_files_demo_3ddfa_v2.ipynb\" target=\"_parent\"><img src=\"https://colab.research.google.com/assets/colab-badge.svg\" alt=\"Open In Colab\"/></a>"
      ]
    },
    {
      "cell_type": "markdown",
      "metadata": {
        "id": "Qk5AOOUQdyH-"
      },
      "source": [
        "## A simple demostration of how to run"
      ]
    },
    {
      "cell_type": "code",
      "metadata": {
        "id": "QVhLz5czcT5T",
        "colab": {
          "base_uri": "https://localhost:8080/"
        },
        "outputId": "59385874-1c8c-425b-896d-a86132d6d70e"
      },
      "source": [
        "# if the repo is not there, it will clone it\n",
        "%cd /content\n",
        "!git clone https://github.com/cleardusk/3DDFA_V2.git\n",
        "%cd 3DDFA_V2"
      ],
      "execution_count": null,
      "outputs": [
        {
          "output_type": "stream",
          "text": [
            "/content\n",
            "Cloning into '3DDFA_V2'...\n",
            "remote: Enumerating objects: 669, done.\u001b[K\n",
            "remote: Counting objects: 100% (17/17), done.\u001b[K\n",
            "remote: Compressing objects: 100% (13/13), done.\u001b[K\n",
            "remote: Total 669 (delta 4), reused 10 (delta 2), pack-reused 652\u001b[K\n",
            "Receiving objects: 100% (669/669), 74.77 MiB | 30.49 MiB/s, done.\n",
            "Resolving deltas: 100% (345/345), done.\n",
            "/content/3DDFA_V2\n"
          ],
          "name": "stdout"
        }
      ]
    },
    {
      "cell_type": "code",
      "metadata": {
        "id": "vQ6OBy22crZM",
        "colab": {
          "base_uri": "https://localhost:8080/"
        },
        "outputId": "54429b2a-ed73-4a08-971c-48082ca40533"
      },
      "source": [
        "!sh ./build.sh"
      ],
      "execution_count": null,
      "outputs": [
        {
          "output_type": "stream",
          "text": [
            "running build_ext\n",
            "cythoning nms/cpu_nms.pyx to nms/cpu_nms.c\n",
            "/usr/local/lib/python3.7/dist-packages/Cython/Compiler/Main.py:369: FutureWarning: Cython directive 'language_level' not set, using 2 for now (Py2). This will change in a later release! File: /content/3DDFA_V2/FaceBoxes/utils/nms/cpu_nms.pyx\n",
            "  tree = Parsing.p_module(s, pxd, full_module_name)\n",
            "building 'nms.cpu_nms' extension\n",
            "creating build\n",
            "creating build/temp.linux-x86_64-3.7\n",
            "creating build/temp.linux-x86_64-3.7/nms\n",
            "x86_64-linux-gnu-gcc -pthread -Wno-unused-result -Wsign-compare -DNDEBUG -g -fwrapv -O2 -Wall -g -fdebug-prefix-map=/build/python3.7-a56wZI/python3.7-3.7.10=. -fstack-protector-strong -Wformat -Werror=format-security -g -fdebug-prefix-map=/build/python3.7-a56wZI/python3.7-3.7.10=. -fstack-protector-strong -Wformat -Werror=format-security -Wdate-time -D_FORTIFY_SOURCE=2 -fPIC -I/usr/local/lib/python3.7/dist-packages/numpy/core/include -I/usr/include/python3.7m -c nms/cpu_nms.c -o build/temp.linux-x86_64-3.7/nms/cpu_nms.o -Wno-cpp -Wno-unused-function\n",
            "\u001b[01m\u001b[Knms/cpu_nms.c:\u001b[m\u001b[K In function ‘\u001b[01m\u001b[K__pyx_pf_3nms_7cpu_nms_2cpu_soft_nms\u001b[m\u001b[K’:\n",
            "\u001b[01m\u001b[Knms/cpu_nms.c:3384:33:\u001b[m\u001b[K \u001b[01;35m\u001b[Kwarning: \u001b[m\u001b[Kcomparison between signed and unsigned integer expressions [\u001b[01;35m\u001b[K-Wsign-compare\u001b[m\u001b[K]\n",
            "       __pyx_t_8 = ((__pyx_v_pos \u001b[01;35m\u001b[K<\u001b[m\u001b[K __pyx_v_N) != 0);\n",
            "                                 \u001b[01;35m\u001b[K^\u001b[m\u001b[K\n",
            "\u001b[01m\u001b[Knms/cpu_nms.c:3895:33:\u001b[m\u001b[K \u001b[01;35m\u001b[Kwarning: \u001b[m\u001b[Kcomparison between signed and unsigned integer expressions [\u001b[01;35m\u001b[K-Wsign-compare\u001b[m\u001b[K]\n",
            "       __pyx_t_8 = ((__pyx_v_pos \u001b[01;35m\u001b[K<\u001b[m\u001b[K __pyx_v_N) != 0);\n",
            "                                 \u001b[01;35m\u001b[K^\u001b[m\u001b[K\n",
            "x86_64-linux-gnu-gcc -pthread -shared -Wl,-O1 -Wl,-Bsymbolic-functions -Wl,-Bsymbolic-functions -Wl,-z,relro -Wl,-Bsymbolic-functions -Wl,-z,relro -g -fdebug-prefix-map=/build/python3.7-a56wZI/python3.7-3.7.10=. -fstack-protector-strong -Wformat -Werror=format-security -Wdate-time -D_FORTIFY_SOURCE=2 build/temp.linux-x86_64-3.7/nms/cpu_nms.o -o /content/3DDFA_V2/FaceBoxes/utils/nms/cpu_nms.cpython-37m-x86_64-linux-gnu.so\n",
            "running build_ext\n",
            "cythoning lib/rasterize.pyx to lib/rasterize.cpp\n",
            "/usr/local/lib/python3.7/dist-packages/Cython/Compiler/Main.py:369: FutureWarning: Cython directive 'language_level' not set, using 2 for now (Py2). This will change in a later release! File: /content/3DDFA_V2/Sim3DR/lib/rasterize.pyx\n",
            "  tree = Parsing.p_module(s, pxd, full_module_name)\n",
            "building 'Sim3DR_Cython' extension\n",
            "creating build\n",
            "creating build/temp.linux-x86_64-3.7\n",
            "creating build/temp.linux-x86_64-3.7/lib\n",
            "x86_64-linux-gnu-gcc -pthread -Wno-unused-result -Wsign-compare -DNDEBUG -g -fwrapv -O2 -Wall -g -fdebug-prefix-map=/build/python3.7-a56wZI/python3.7-3.7.10=. -fstack-protector-strong -Wformat -Werror=format-security -g -fdebug-prefix-map=/build/python3.7-a56wZI/python3.7-3.7.10=. -fstack-protector-strong -Wformat -Werror=format-security -Wdate-time -D_FORTIFY_SOURCE=2 -fPIC -I/usr/local/lib/python3.7/dist-packages/numpy/core/include -I/usr/include/python3.7m -c lib/rasterize.cpp -o build/temp.linux-x86_64-3.7/lib/rasterize.o -std=c++11\n",
            "In file included from \u001b[01m\u001b[K/usr/local/lib/python3.7/dist-packages/numpy/core/include/numpy/ndarraytypes.h:1822:0\u001b[m\u001b[K,\n",
            "                 from \u001b[01m\u001b[K/usr/local/lib/python3.7/dist-packages/numpy/core/include/numpy/ndarrayobject.h:12\u001b[m\u001b[K,\n",
            "                 from \u001b[01m\u001b[K/usr/local/lib/python3.7/dist-packages/numpy/core/include/numpy/arrayobject.h:4\u001b[m\u001b[K,\n",
            "                 from \u001b[01m\u001b[Klib/rasterize.cpp:624\u001b[m\u001b[K:\n",
            "\u001b[01m\u001b[K/usr/local/lib/python3.7/dist-packages/numpy/core/include/numpy/npy_1_7_deprecated_api.h:17:2:\u001b[m\u001b[K \u001b[01;35m\u001b[Kwarning: \u001b[m\u001b[K#warning \"Using deprecated NumPy API, disable it with \" \"#define NPY_NO_DEPRECATED_API NPY_1_7_API_VERSION\" [\u001b[01;35m\u001b[K-Wcpp\u001b[m\u001b[K]\n",
            " #\u001b[01;35m\u001b[Kwarning\u001b[m\u001b[K \"Using deprecated NumPy API, disable it with \" \\\n",
            "  \u001b[01;35m\u001b[K^~~~~~~\u001b[m\u001b[K\n",
            "x86_64-linux-gnu-gcc -pthread -Wno-unused-result -Wsign-compare -DNDEBUG -g -fwrapv -O2 -Wall -g -fdebug-prefix-map=/build/python3.7-a56wZI/python3.7-3.7.10=. -fstack-protector-strong -Wformat -Werror=format-security -g -fdebug-prefix-map=/build/python3.7-a56wZI/python3.7-3.7.10=. -fstack-protector-strong -Wformat -Werror=format-security -Wdate-time -D_FORTIFY_SOURCE=2 -fPIC -I/usr/local/lib/python3.7/dist-packages/numpy/core/include -I/usr/include/python3.7m -c lib/rasterize_kernel.cpp -o build/temp.linux-x86_64-3.7/lib/rasterize_kernel.o -std=c++11\n",
            "x86_64-linux-gnu-g++ -pthread -shared -Wl,-O1 -Wl,-Bsymbolic-functions -Wl,-Bsymbolic-functions -Wl,-z,relro -Wl,-Bsymbolic-functions -Wl,-z,relro -g -fdebug-prefix-map=/build/python3.7-a56wZI/python3.7-3.7.10=. -fstack-protector-strong -Wformat -Werror=format-security -Wdate-time -D_FORTIFY_SOURCE=2 build/temp.linux-x86_64-3.7/lib/rasterize.o build/temp.linux-x86_64-3.7/lib/rasterize_kernel.o -o /content/3DDFA_V2/Sim3DR/Sim3DR_Cython.cpython-37m-x86_64-linux-gnu.so\n"
          ],
          "name": "stdout"
        }
      ]
    },
    {
      "cell_type": "code",
      "metadata": {
        "id": "JKwrGXxXdJiw"
      },
      "source": [
        "# before import, make sure FaceBoxes and Sim3DR are built successfully, e.g.,\n",
        "\n",
        "import cv2\n",
        "import yaml\n",
        "\n",
        "from FaceBoxes import FaceBoxes\n",
        "from TDDFA import TDDFA\n",
        "from utils.render import render\n",
        "from utils.depth import depth\n",
        "from utils.pncc import pncc\n",
        "from utils.uv import uv_tex\n",
        "from utils.pose import viz_pose\n",
        "from utils.serialization import ser_to_ply, ser_to_obj\n",
        "from utils.functions import draw_landmarks, get_suffix\n",
        "\n",
        "import matplotlib.pyplot as plt\n",
        "from skimage import io"
      ],
      "execution_count": null,
      "outputs": []
    },
    {
      "cell_type": "markdown",
      "metadata": {
        "id": "ZEGbq0PKeMYV"
      },
      "source": [
        "### Load configs"
      ]
    },
    {
      "cell_type": "code",
      "metadata": {
        "id": "pEpptH1Kc1pq",
        "colab": {
          "base_uri": "https://localhost:8080/"
        },
        "outputId": "9bbd6541-d60c-42c4-a43f-4371018c3127"
      },
      "source": [
        "# load config\n",
        "cfg = yaml.load(open('configs/mb1_120x120.yml'), Loader=yaml.SafeLoader)\n",
        "\n",
        "# Init FaceBoxes and TDDFA, recommend using onnx flag\n",
        "onnx_flag = True  # or True to use ONNX to speed up\n",
        "if onnx_flag:\n",
        "    !pip install onnxruntime\n",
        "    \n",
        "    import os\n",
        "    os.environ['KMP_DUPLICATE_LIB_OK'] = 'True'\n",
        "    os.environ['OMP_NUM_THREADS'] = '4'\n",
        "    from FaceBoxes.FaceBoxes_ONNX import FaceBoxes_ONNX\n",
        "    from TDDFA_ONNX import TDDFA_ONNX\n",
        "\n",
        "    face_boxes = FaceBoxes_ONNX()\n",
        "    tddfa = TDDFA_ONNX(**cfg)\n",
        "else:\n",
        "    face_boxes = FaceBoxes()\n",
        "    tddfa = TDDFA(gpu_mode=False, **cfg)"
      ],
      "execution_count": null,
      "outputs": [
        {
          "output_type": "stream",
          "text": [
            "Collecting onnxruntime\n",
            "\u001b[?25l  Downloading https://files.pythonhosted.org/packages/0c/f0/666d6e3ceaa276a54e728f9972732e058544cbb6a3e1a778a8d6f87132c1/onnxruntime-1.7.0-cp37-cp37m-manylinux2014_x86_64.whl (4.1MB)\n",
            "\u001b[K     |████████████████████████████████| 4.1MB 8.8MB/s \n",
            "\u001b[?25hRequirement already satisfied: numpy>=1.16.6 in /usr/local/lib/python3.7/dist-packages (from onnxruntime) (1.19.5)\n",
            "Requirement already satisfied: protobuf in /usr/local/lib/python3.7/dist-packages (from onnxruntime) (3.12.4)\n",
            "Requirement already satisfied: six>=1.9 in /usr/local/lib/python3.7/dist-packages (from protobuf->onnxruntime) (1.15.0)\n",
            "Requirement already satisfied: setuptools in /usr/local/lib/python3.7/dist-packages (from protobuf->onnxruntime) (54.2.0)\n",
            "Installing collected packages: onnxruntime\n",
            "Successfully installed onnxruntime-1.7.0\n"
          ],
          "name": "stdout"
        },
        {
          "output_type": "stream",
          "text": [
            "/usr/local/lib/python3.7/dist-packages/torch/onnx/utils.py:1193: UserWarning: No names were found for specified dynamic axes of provided input.Automatically generated names will be applied to each dynamic axes of input input\n",
            "  'Automatically generated names will be applied to each dynamic axes of input {}'.format(key))\n",
            "/usr/local/lib/python3.7/dist-packages/torch/onnx/utils.py:1193: UserWarning: No names were found for specified dynamic axes of provided input.Automatically generated names will be applied to each dynamic axes of input output\n",
            "  'Automatically generated names will be applied to each dynamic axes of input {}'.format(key))\n"
          ],
          "name": "stderr"
        },
        {
          "output_type": "stream",
          "text": [
            "Convert /content/3DDFA_V2/FaceBoxes/weights/FaceBoxesProd.pth to /content/3DDFA_V2/FaceBoxes/weights/FaceBoxesProd.onnx done.\n"
          ],
          "name": "stdout"
        },
        {
          "output_type": "stream",
          "text": [
            "/usr/local/lib/python3.7/dist-packages/torch/onnx/utils.py:1193: UserWarning: No names were found for specified dynamic axes of provided input.Automatically generated names will be applied to each dynamic axes of input alpha_shp\n",
            "  'Automatically generated names will be applied to each dynamic axes of input {}'.format(key))\n",
            "/usr/local/lib/python3.7/dist-packages/torch/onnx/utils.py:1193: UserWarning: No names were found for specified dynamic axes of provided input.Automatically generated names will be applied to each dynamic axes of input alpha_exp\n",
            "  'Automatically generated names will be applied to each dynamic axes of input {}'.format(key))\n"
          ],
          "name": "stderr"
        },
        {
          "output_type": "stream",
          "text": [
            "Convert configs/bfm_noneck_v3.pkl to configs/bfm_noneck_v3.onnx done.\n",
            "weights/mb1_120x120.onnx does not exist, try to convert the `.pth` version to `.onnx` online\n",
            "Convert weights/mb1_120x120.pth to weights/mb1_120x120.onnx done.\n"
          ],
          "name": "stdout"
        }
      ]
    },
    {
      "cell_type": "code",
      "metadata": {
        "colab": {
          "base_uri": "https://localhost:8080/"
        },
        "id": "H8lpOagZAyFO",
        "outputId": "90e42630-7c7b-47fa-a5f2-a7a15a9383aa"
      },
      "source": [
        "FOLDER_WITH_IMAGES = '/content/3DDFA_V2/examples/custom_inputs/'\n",
        "!cd /content/3DDFA_V2\n",
        "\n",
        "!mkdir -p $FOLDER_WITH_IMAGES\n",
        "\n",
        "print (\"Please place your images in \" + str(FOLDER_WITH_IMAGES))"
      ],
      "execution_count": null,
      "outputs": [
        {
          "output_type": "stream",
          "text": [
            "Please place your images in /content/3DDFA_V2/examples/custom_inputs/\n"
          ],
          "name": "stdout"
        }
      ]
    },
    {
      "cell_type": "code",
      "metadata": {
        "colab": {
          "base_uri": "https://localhost:8080/"
        },
        "id": "Z91bm1r8BY9x",
        "outputId": "bd746d7b-a62a-45d6-a34d-c3dfcc5caac1"
      },
      "source": [
        "\n",
        "import os\n",
        "import cv2\n",
        " \n",
        "files = [f for f in os.listdir(FOLDER_WITH_IMAGES) if f.endswith('.jpg')]\n",
        "\n",
        "# -o can be: 2d_sparse 2d_dense 3d depth pncc pose uv_tex ply obj\n",
        "for infile in files: \n",
        "   print('Processing file %s ...' % (infile))\n",
        "   full_path = os.path.join(FOLDER_WITH_IMAGES, infile)   \n",
        "   !python demo.py -f $full_path -o obj --show_flag=false --onnx;\n",
        " \n",
        "print('Done')"
      ],
      "execution_count": null,
      "outputs": [
        {
          "output_type": "stream",
          "text": [
            "Processing file input_img_00008.jpg ...\n",
            "Detect 1 faces\n",
            "Dump tp examples/results/input_img_00008_obj.obj\n",
            "Processing file input_img_00009.jpg ...\n",
            "Detect 1 faces\n",
            "Dump tp examples/results/input_img_00009_obj.obj\n",
            "Processing file input_img_00003.jpg ...\n",
            "Detect 1 faces\n",
            "Dump tp examples/results/input_img_00003_obj.obj\n",
            "Processing file input_img_00005.jpg ...\n",
            "Detect 1 faces\n",
            "Dump tp examples/results/input_img_00005_obj.obj\n",
            "Processing file input_img_00007.jpg ...\n",
            "Detect 1 faces\n",
            "Dump tp examples/results/input_img_00007_obj.obj\n",
            "Processing file input_img_00001.jpg ...\n",
            "Detect 1 faces\n",
            "Dump tp examples/results/input_img_00001_obj.obj\n",
            "Processing file input_img_00004.jpg ...\n",
            "Detect 1 faces\n",
            "Dump tp examples/results/input_img_00004_obj.obj\n",
            "Processing file input_img_00006.jpg ...\n",
            "Detect 1 faces\n",
            "Dump tp examples/results/input_img_00006_obj.obj\n",
            "Processing file input_img_00002.jpg ...\n",
            "Detect 1 faces\n",
            "Dump tp examples/results/input_img_00002_obj.obj\n",
            "Done\n"
          ],
          "name": "stdout"
        }
      ]
    },
    {
      "cell_type": "code",
      "metadata": {
        "colab": {
          "base_uri": "https://localhost:8080/"
        },
        "id": "3mlqVV6MVmvz",
        "outputId": "4a211e7c-d9af-40bd-f6e6-2fdbbbe1967e"
      },
      "source": [
        "%cd /content/3DDFA_V2/examples/results\n",
        "!zip /content/3ddfa_v2_results.zip ./*"
      ],
      "execution_count": null,
      "outputs": [
        {
          "output_type": "stream",
          "text": [
            "/content/3DDFA_V2/examples/results\n",
            "  adding: input_img_00001_obj.obj (deflated 74%)\n",
            "  adding: input_img_00002_obj.obj (deflated 73%)\n",
            "  adding: input_img_00003_obj.obj (deflated 73%)\n",
            "  adding: input_img_00004_obj.obj (deflated 74%)\n",
            "  adding: input_img_00005_obj.obj (deflated 73%)\n",
            "  adding: input_img_00006_obj.obj (deflated 73%)\n",
            "  adding: input_img_00007_obj.obj (deflated 74%)\n",
            "  adding: input_img_00008_obj.obj (deflated 73%)\n",
            "  adding: input_img_00009_obj.obj (deflated 74%)\n",
            "  adding: videos/ (stored 0%)\n"
          ],
          "name": "stdout"
        }
      ]
    },
    {
      "cell_type": "code",
      "metadata": {
        "colab": {
          "base_uri": "https://localhost:8080/"
        },
        "id": "3TlhYZdlEWso",
        "outputId": "638cfde5-3354-4830-b971-67fdc6852294"
      },
      "source": [
        "print(\"Please download the zip file from /content/3ddfa_v2_results.zip\")"
      ],
      "execution_count": null,
      "outputs": [
        {
          "output_type": "stream",
          "text": [
            "Please download the zip file from /content/3ddfa_v2_results.zip\n"
          ],
          "name": "stdout"
        }
      ]
    }
  ]
}